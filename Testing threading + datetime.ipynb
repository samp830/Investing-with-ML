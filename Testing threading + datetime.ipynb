{
 "cells": [
  {
   "cell_type": "code",
   "execution_count": 1,
   "metadata": {
    "collapsed": false
   },
   "outputs": [
    {
     "data": {
      "text/plain": [
       "[12.0, 9.0]"
      ]
     },
     "execution_count": 1,
     "metadata": {},
     "output_type": "execute_result"
    }
   ],
   "source": [
    "import pandas as pd\n",
    "import os\n",
    "import time\n",
    "from datetime import datetime\n",
    "import bs4 as b4\n",
    "from bs4 import BeautifulSoup\n",
    "import re\n",
    "import threading\n",
    "from queue import Queue\n",
    "import time\n",
    "import matplotlib\n",
    "import matplotlib.pyplot as plt\n",
    "from matplotlib import style\n",
    "style.use(\"dark_background\")\n",
    "\n",
    "matplotlib.rcParams['figure.figsize']\n",
    "plt.rcParams[\"figure.figsize\"] = [12,9]\n",
    "matplotlib.rcParams['figure.figsize']"
   ]
  },
  {
   "cell_type": "markdown",
   "metadata": {},
   "source": [
    "# Threading"
   ]
  },
  {
   "cell_type": "code",
   "execution_count": 2,
   "metadata": {
    "collapsed": true
   },
   "outputs": [],
   "source": [
    "# #20 jobs 10 workers\n",
    "# print_lock = threading.Lock()\n",
    "# def exampleJob(worker):\n",
    "#     time.sleep(0.5)\n",
    "#     with print_lock:\n",
    "#         print(threading.current_thread().name, worker)\n",
    "# def threader():\n",
    "#     while True:\n",
    "#         worker = q.get()\n",
    "#         exampleJob(worker)\n",
    "#         q.task_done()\n",
    "# q = Queue ()\n",
    "# for x in range(10):\n",
    "#     t  = threading.Thread(target = threader)\n",
    "#     t.daemon = True\n",
    "#     t.start()\n",
    "# start = time.time()\n",
    "# for worker in range(20):\n",
    "#     q.put(worker)\n",
    "# q.join()\n",
    "# print('Entire job took:', time.time() - start)"
   ]
  },
  {
   "cell_type": "markdown",
   "metadata": {},
   "source": [
    "# Datetime Module"
   ]
  },
  {
   "cell_type": "code",
   "execution_count": 3,
   "metadata": {
    "collapsed": false
   },
   "outputs": [
    {
     "name": "stdout",
     "output_type": "stream",
     "text": [
      "<class 'datetime.datetime'>\n",
      "2006-11-21 16:30:00\n",
      "<class 'time.struct_time'>\n",
      "1164155400.0\n"
     ]
    }
   ],
   "source": [
    "dt= datetime.strptime(\"21/11/06 16:30\", \"%d/%m/%y %H:%M\")\n",
    "print (type(dt))\n",
    "print (dt)\n",
    "print (type(dt.timetuple()))\n",
    "# 2006    # year\n",
    "# 11      # month\n",
    "# 21      # day\n",
    "# 16      # hour\n",
    "# 30      # minute\n",
    "# 0       # second\n",
    "# 1       # weekday (0 = Monday)\n",
    "# 325     # number of days since 1st January\n",
    "# -1      # dst - method tzinfo.dst() returned None\n",
    "unix_time = time.mktime(dt.timetuple())\n",
    "print (unix_time)"
   ]
  },
  {
   "cell_type": "markdown",
   "metadata": {},
   "source": [
    "# Using SVM"
   ]
  },
  {
   "cell_type": "code",
   "execution_count": 4,
   "metadata": {
    "collapsed": true
   },
   "outputs": [],
   "source": [
    "import numpy as np\n",
    "from sklearn import svm\n",
    "from matplotlib import style\n",
    "style.use(\"ggplot\")"
   ]
  },
  {
   "cell_type": "code",
   "execution_count": 5,
   "metadata": {
    "collapsed": false
   },
   "outputs": [
    {
     "data": {
      "image/png": "[encoded data removed]",
      "text/plain": [
       "<matplotlib.figure.Figure at 0x118c8d630>"
      ]
     },
     "metadata": {},
     "output_type": "display_data"
    },
    {
     "name": "stdout",
     "output_type": "stream",
     "text": [
      "[1]\n"
     ]
    },
    {
     "name": "stderr",
     "output_type": "stream",
     "text": [
      "/Users/sparajuli/anaconda3/lib/python3.6/site-packages/sklearn/utils/validation.py:395: DeprecationWarning: Passing 1d arrays as data is deprecated in 0.17 and will raise ValueError in 0.19. Reshape your data either using X.reshape(-1, 1) if your data has a single feature or X.reshape(1, -1) if it contains a single sample.\n",
      "  DeprecationWarning)\n"
     ]
    }
   ],
   "source": [
    "x =[1, 5, 1.5, 8, 1, 9]\n",
    "y = [2, 8, 1.8, 8, 0.6, 11]\n",
    "plt.scatter(x, y)\n",
    "plt.show()\n",
    "X = [[1,2],[5,8], [1.5, 1.8], [8,8], [1, 0.6], [9,11]]\n",
    "y = [0, 1, 0, 1, 0, 1]\n",
    "clf = svm.SVC(kernel = 'linear', C=1.0)\n",
    "clf.fit(X,y)\n",
    "print(clf.predict([10.58, 11.58]))"
   ]
  },
  {
   "cell_type": "code",
   "execution_count": null,
   "metadata": {
    "collapsed": true
   },
   "outputs": [],
   "source": []
  }
 ],
 "metadata": {
  "kernelspec": {
   "display_name": "Python 3",
   "language": "python",
   "name": "python3"
  },
  "language_info": {
   "codemirror_mode": {
    "name": "ipython",
    "version": 3
   },
   "file_extension": ".py",
   "mimetype": "text/x-python",
   "name": "python",
   "nbconvert_exporter": "python",
   "pygments_lexer": "ipython3",
   "version": "3.6.0"
  }
 },
 "nbformat": 4,
 "nbformat_minor": 2
}
